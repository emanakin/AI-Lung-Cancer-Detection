{
 "cells": [
  {
   "cell_type": "code",
   "execution_count": null,
   "metadata": {},
   "outputs": [],
   "source": [
    "import numpy as np\n",
    "import tensorflow as tf\n",
    "from sklearn.metrics import accuracy_score, confusion_matrix, classification_report\n",
    "\n",
    "# Load the test data\n",
    "X_test = np.load('../data/splits/test_images.npy')\n",
    "y_test = np.load('../data/splits/test_labels.npy')\n",
    "\n",
    "# Convert grayscale to 3-channel images for pre-trained models\n",
    "X_test_rgb = np.repeat(X_test, 3, axis=-1)\n",
    "\n",
    "# Load the models\n",
    "custom_cnn = tf.keras.models.load_model('../models/cnn/custom_cnn.keras')\n",
    "vgg16 = tf.keras.models.load_model('../models/pretrained/vgg16.keras')\n",
    "resnet50 = tf.keras.models.load_model('../models/pretrained/resnet50.keras')\n",
    "inceptionv3 = tf.keras.models.load_model('../models/pretrained/inceptionv3.keras')\n",
    "\n",
    "# Generate predictions\n",
    "custom_preds = custom_cnn.predict(X_test).flatten()\n",
    "vgg16_preds = vgg16.predict(X_test_rgb).flatten()\n",
    "resnet50_preds = resnet50.predict(X_test_rgb).flatten()\n",
    "inceptionv3_preds = inceptionv3.predict(X_test_rgb).flatten()\n",
    "\n",
    "# Convert predictions to binary labels\n",
    "def binarize_preds(preds, threshold=0.5):\n",
    "    return (preds > threshold).astype(int)\n",
    "\n",
    "custom_binary = binarize_preds(custom_preds)\n",
    "vgg16_binary = binarize_preds(vgg16_preds)\n",
    "resnet50_binary = binarize_preds(resnet50_preds)\n",
    "inceptionv3_binary = binarize_preds(inceptionv3_preds)\n",
    "\n",
    "# Ensemble method: Majority Voting\n",
    "def majority_voting(*args):\n",
    "    return (np.sum(args, axis=0) >= (len(args) / 2)).astype(int)\n",
    "\n",
    "ensemble_preds = majority_voting(custom_binary, vgg16_binary, resnet50_binary, inceptionv3_binary)\n",
    "\n",
    "# Evaluate the ensemble model\n",
    "accuracy = accuracy_score(y_test, ensemble_preds)\n",
    "conf_matrix = confusion_matrix(y_test, ensemble_preds)\n",
    "class_report = classification_report(y_test, ensemble_preds)\n",
    "\n",
    "print(f\"Ensemble Model Accuracy: {accuracy}\")\n",
    "print(f\"Confusion Matrix:\\n{conf_matrix}\")\n",
    "print(f\"Classification Report:\\n{class_report}\")\n"
   ]
  }
 ],
 "metadata": {
  "language_info": {
   "name": "python"
  }
 },
 "nbformat": 4,
 "nbformat_minor": 2
}
